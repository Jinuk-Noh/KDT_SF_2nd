{
 "cells": [
  {
   "cell_type": "code",
   "execution_count": 23,
   "id": "abe2e1fc",
   "metadata": {
    "scrolled": false
   },
   "outputs": [
    {
     "name": "stdout",
     "output_type": "stream",
     "text": [
      "[3 1 2]\n",
      "[1, 2, 3]\n",
      "<class 'numpy.ndarray'>\n",
      "<class 'list'>\n",
      "['1' '2' 'a' 'b']\n",
      "[1, 2, 3, 4, 5, 6]\n",
      "[5 7 9]\n",
      "[ 4 10 18]\n",
      "[3 6 9]\n"
     ]
    }
   ],
   "source": [
    "import numpy as np\n",
    "\n",
    "#행렬\n",
    "#numpy.array(리스트)\n",
    "x = np.array([3, 1, 2])\n",
    "print(x)\n",
    "\n",
    "y = [1, 2, 3]\n",
    "print(y)\n",
    "\n",
    "print(type(x)) #원소로 한가지 자료형만 허용\n",
    "print(type(y)) #원소로 여러 자료형 허용\n",
    "\n",
    "print(np.array([1,2,'a','b'])) # 숫자를 문자로 출력(한가지 자료형만 허용)\n",
    "\n",
    "# 내부 배열의 원소 개수가 같아야 함\n",
    "#np.array([[1,2],[2,3,4],[4,5]]) < 사용불가\n",
    "\n",
    "print([1,2,3] + [4,5,6])\n",
    "print(np.array([1,2,3]) + np.array([4,5,6]))\n",
    "print(np.array([1,2,3]) * np.array([4,5,6]))\n",
    "print(np.array([1,2,3]) * 3)\n"
   ]
  },
  {
   "cell_type": "code",
   "execution_count": 29,
   "id": "2ee02cec",
   "metadata": {},
   "outputs": [
    {
     "data": {
      "text/plain": [
       "(2, 2)"
      ]
     },
     "execution_count": 29,
     "metadata": {},
     "output_type": "execute_result"
    }
   ],
   "source": [
    "narray1 = np.array([3, 1, 2])\n",
    "narray1.ndim\n",
    "\n",
    "narray2 = np.array([[1,2], [2,3]])\n",
    "narray2.ndim\n",
    "narray2.shape"
   ]
  },
  {
   "cell_type": "code",
   "execution_count": 34,
   "id": "de002b76",
   "metadata": {},
   "outputs": [
    {
     "data": {
      "text/plain": [
       "24"
      ]
     },
     "execution_count": 34,
     "metadata": {},
     "output_type": "execute_result"
    }
   ],
   "source": [
    "# dot\n",
    "n = np.array([1])\n",
    "n2 = np.array([3])\n",
    "n.dot(n2)\n",
    "np.dot(n,n2)\n",
    "\n",
    "n3 = np.array([1,2,3])\n",
    "n4 = np.array([4,4,4])\n",
    "n3.dot(n4)"
   ]
  },
  {
   "cell_type": "code",
   "execution_count": 90,
   "id": "66f82671",
   "metadata": {},
   "outputs": [
    {
     "name": "stdout",
     "output_type": "stream",
     "text": [
      "[[0. 0. 0. 0. 0.]\n",
      " [0. 0. 0. 0. 0.]\n",
      " [0. 0. 0. 0. 0.]\n",
      " [0. 0. 0. 0. 0.]\n",
      " [0. 0. 0. 0. 0.]]\n",
      "[[False False]\n",
      " [False  True]\n",
      " [False  True]]\n",
      "[5 9]\n"
     ]
    }
   ],
   "source": [
    "# matmul\n",
    "n5= np.array([[1,2],[2,3]])\n",
    "n6= np.array([[1,2],[2,3]])\n",
    "n5.dot(n6)\n",
    "np.matmul(n5,n6)\n",
    "\n",
    "# 0 행렬 생성\n",
    "np.zeros((5,5))\n",
    "\n",
    "# 유닛행렬\n",
    "np.ones((3,3))\n",
    "\n",
    "# 특정 값 채우기\n",
    "np.full((3,2), 5)\n",
    "\n",
    "#단위 행렬(대각선 값 1/ 행 = 열)\n",
    "np.eye(5)\n",
    "\n",
    "# 평탄화\n",
    "# N차원 배열을 1차원 배열로 변환시켜주는 작업\n",
    "n6.flatten()\n",
    "n7 = n6.flatten()\n",
    "list(n7)\n",
    "\n",
    "# reshape - 원소의 갯수가 같아야함\n",
    "n8 = np.array([[1,2,3],[4,5,6]])\n",
    "n8.reshape(3,2)\n",
    "\n",
    "# arnage 특정 배열을 만듬\n",
    "np.arange(5)\n",
    "np.arange(5,10)\n",
    "np.arange(5,10,2)\n",
    "\n",
    "#random\n",
    "np.random.randint(6, size= (2,3))\n",
    "np.random.rand(3,2) # 0< value <1 요소 값 난수로 생성\n",
    "\n",
    "# 조건\n",
    "n = np.array([\n",
    "    [4,3],\n",
    "    [2,5],\n",
    "    [1,9]\n",
    "])\n",
    "\n",
    "print(n > 4)\n",
    "\n",
    "print(n[n > 4] ## 조건에 맞는 인덱스 값으로 배열로 만듬"
   ]
  },
  {
   "cell_type": "code",
   "execution_count": 112,
   "id": "a0de20d1",
   "metadata": {
    "scrolled": true
   },
   "outputs": [
    {
     "name": "stdout",
     "output_type": "stream",
     "text": [
      "[0. 0. 0. 0. 0. 0. 0. 0. 0. 0.]\n",
      "[0. 0. 0. 0. 1. 0. 0. 0. 0. 0.]\n",
      "[10 11 12 13 14 15 16 17 18 19 20 21 22 23 24 25 26 27 28 29 30]\n",
      "[[30 19]\n",
      " [14 47]]\n",
      "[[0.92127781 0.42905565 0.61506154 0.76223675]\n",
      " [0.14085064 0.16205925 0.00329563 0.61519631]]\n"
     ]
    }
   ],
   "source": [
    "na = np.zeros((10))\n",
    "print(na)\n",
    "na[4] =1\n",
    "print(na)\n",
    "print(np.arange(10,31))\n",
    "print(np.random.randint(100,size =(2,2)))\n",
    "print(np.random.rand(2,4))"
   ]
  },
  {
   "cell_type": "code",
   "execution_count": 166,
   "id": "a5e4a6c0",
   "metadata": {},
   "outputs": [
    {
     "name": "stdout",
     "output_type": "stream",
     "text": [
      "[[35 36 37 38]\n",
      " [39 40 41 42]\n",
      " [43 44 45 46]\n",
      " [47 48 49 50]\n",
      " [51 52 53 54]\n",
      " [55 56 57 58]\n",
      " [59 60 61 62]\n",
      " [63 64 65 66]\n",
      " [67 68 69 70]\n",
      " [71 72 73 74]]\n",
      "\n",
      "[[71 72 73 74]\n",
      " [67 68 69 70]\n",
      " [63 64 65 66]\n",
      " [59 60 61 62]\n",
      " [55 56 57 58]\n",
      " [51 52 53 54]\n",
      " [47 48 49 50]\n",
      " [43 44 45 46]\n",
      " [39 40 41 42]\n",
      " [35 36 37 38]]\n",
      "\n",
      "[[41 42]\n",
      " [45 46]\n",
      " [49 50]\n",
      " [53 54]\n",
      " [57 58]\n",
      " [61 62]\n",
      " [65 66]\n",
      " [69 70]]\n"
     ]
    }
   ],
   "source": [
    "na2 = np.arange(35,75)\n",
    "na2 = na2.reshape(10,4)\n",
    "print(na2)\n",
    "print()\n",
    "na3 = na2[::-1,::]\n",
    "print(na3)\n",
    "print()\n",
    "print(na2[1:-1:,2::])"
   ]
  },
  {
   "cell_type": "code",
   "execution_count": 196,
   "id": "e7e5a12e",
   "metadata": {},
   "outputs": [
    {
     "name": "stdout",
     "output_type": "stream",
     "text": [
      "[38 42 46 50 54 58 62 66 70 74]\n",
      "\n",
      "[[38]\n",
      " [42]\n",
      " [46]\n",
      " [50]\n",
      " [54]\n",
      " [58]\n",
      " [62]\n",
      " [66]\n",
      " [70]\n",
      " [74]]\n",
      "\n",
      "[[74]\n",
      " [70]\n",
      " [66]\n",
      " [62]\n",
      " [58]\n",
      " [54]\n",
      " [50]\n",
      " [46]\n",
      " [42]\n",
      " [38]]\n",
      "\n",
      "[10 24 22 26 26 40 34 34 14 12 26 36  4 20 18 48  4 48]\n"
     ]
    }
   ],
   "source": [
    "print(na2[::,-1::].flatten())\n",
    "print()\n",
    "na3 = na2[::,-1::]\n",
    "print(na3)\n",
    "print()\n",
    "print(na3[::-1])\n",
    "print()\n",
    "\n",
    "na4 = np.random.randint(1,51, (5,6))\n",
    "print(na4[na4 % 2 == 0])\n"
   ]
  }
 ],
 "metadata": {
  "kernelspec": {
   "display_name": "Python 3 (ipykernel)",
   "language": "python",
   "name": "python3"
  },
  "language_info": {
   "codemirror_mode": {
    "name": "ipython",
    "version": 3
   },
   "file_extension": ".py",
   "mimetype": "text/x-python",
   "name": "python",
   "nbconvert_exporter": "python",
   "pygments_lexer": "ipython3",
   "version": "3.10.9"
  }
 },
 "nbformat": 4,
 "nbformat_minor": 5
}
